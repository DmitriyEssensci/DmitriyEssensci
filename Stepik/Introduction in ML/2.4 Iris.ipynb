{
 "cells": [
  {
   "cell_type": "code",
   "execution_count": 2,
   "id": "8f0afa06",
   "metadata": {},
   "outputs": [],
   "source": [
    "import pandas as pd\n",
    "import numpy as np\n",
    "import seaborn as sns\n",
    "%matplotlib inline\n",
    "import matplotlib.pyplot as plt\n",
    "from sklearn import tree\n",
    "from sklearn.metrics import accuracy_score\n",
    "from sklearn.model_selection import train_test_split"
   ]
  },
  {
   "cell_type": "code",
   "execution_count": 30,
   "id": "b522fa8e",
   "metadata": {},
   "outputs": [],
   "source": [
    "X_train = pd.read_csv('C:/Users/dstarasov/Desktop/stepik/task/DS/train_iris.csv', index_col = 0)"
   ]
  },
  {
   "cell_type": "code",
   "execution_count": 33,
   "id": "2421031c",
   "metadata": {},
   "outputs": [],
   "source": [
    "X_test = pd.read_csv('C:/Users/dstarasov/Desktop/stepik/task/DS/test_iris.csv',  index_col = 0)"
   ]
  },
  {
   "cell_type": "code",
   "execution_count": 35,
   "id": "69fb3f04",
   "metadata": {},
   "outputs": [],
   "source": [
    "y_test = X_test.species\n",
    "y_train = X_train.species"
   ]
  },
  {
   "cell_type": "code",
   "execution_count": 36,
   "id": "a1f49d84",
   "metadata": {
    "scrolled": true
   },
   "outputs": [],
   "source": [
    "X_train = X_train.rename(columns = {'sepal length' : 'sepal_length',\n",
    "                                      'sepal width' : 'sepal_width', 'petal length' : 'petal_length', 'petal width' : 'petal_width' }).drop(['species'], axis = 1)"
   ]
  },
  {
   "cell_type": "code",
   "execution_count": 38,
   "id": "d4ffe5c8",
   "metadata": {},
   "outputs": [],
   "source": [
    "X_test = X_test.rename(columns = {'sepal length' : 'sepal_length',\n",
    "                     'sepal width' : 'sepal_width', 'petal length' : 'petal_length', 'petal width' : 'petal_width' }).drop(['species'], axis = 1)"
   ]
  },
  {
   "cell_type": "code",
   "execution_count": 42,
   "id": "0890a831",
   "metadata": {},
   "outputs": [],
   "source": [
    "max_depth_values = range(1,100)"
   ]
  },
  {
   "cell_type": "code",
   "execution_count": 45,
   "id": "27e80ac8",
   "metadata": {},
   "outputs": [],
   "source": [
    "rs = np.random.seed(0)"
   ]
  },
  {
   "cell_type": "code",
   "execution_count": 48,
   "id": "40ace556",
   "metadata": {},
   "outputs": [],
   "source": [
    "scores_data = pd.DataFrame()"
   ]
  },
  {
   "cell_type": "code",
   "execution_count": 49,
   "id": "fa558c56",
   "metadata": {},
   "outputs": [],
   "source": [
    "for max_depth in max_depth_values : # создаём цикл \n",
    "        np.random.seed(0)\n",
    "        clf = clf = tree.DecisionTreeClassifier(random_state = rs, criterion = 'entropy', max_depth = max_depth) # \n",
    "        clf.fit(X_train, y_train)\n",
    "        test_score = clf.score(X_test,y_test)\n",
    "        train_score = clf.score(X_train, y_train)\n",
    "        \n",
    "        temp_score_data = pd.DataFrame({'max_depth': [max_depth],\n",
    "                                        'train_score' : [train_score],\n",
    "                                        'test_score' : [test_score]})\n",
    "        scores_data = scores_data.append(temp_score_data)"
   ]
  },
  {
   "cell_type": "code",
   "execution_count": 52,
   "id": "5133e2a3",
   "metadata": {},
   "outputs": [],
   "source": [
    "scores_data_long = pd.melt(scores_data, id_vars=['max_depth'], value_vars=['train_score', \"test_score\"], \n",
    "                            var_name='set_type', value_name='score')"
   ]
  },
  {
   "cell_type": "code",
   "execution_count": 59,
   "id": "6db1130c",
   "metadata": {
    "scrolled": true
   },
   "outputs": [
    {
     "data": {
      "text/plain": [
       "<AxesSubplot:xlabel='max_depth', ylabel='score'>"
      ]
     },
     "execution_count": 59,
     "metadata": {},
     "output_type": "execute_result"
    },
    {
     "data": {
      "image/png": "[encoded data removed]",
      "text/plain": [
       "<Figure size 432x288 with 1 Axes>"
      ]
     },
     "metadata": {
      "needs_background": "light"
     },
     "output_type": "display_data"
    }
   ],
   "source": [
    "sns.lineplot(data=scores_data_long, x=\"max_depth\", y=\"score\", hue=\"set_type\")"
   ]
  }
 ],
 "metadata": {
  "kernelspec": {
   "display_name": "Python 3 (ipykernel)",
   "language": "python",
   "name": "python3"
  },
  "language_info": {
   "codemirror_mode": {
    "name": "ipython",
    "version": 3
   },
   "file_extension": ".py",
   "mimetype": "text/x-python",
   "name": "python",
   "nbconvert_exporter": "python",
   "pygments_lexer": "ipython3",
   "version": "3.9.6"
  }
 },
 "nbformat": 4,
 "nbformat_minor": 5
}
