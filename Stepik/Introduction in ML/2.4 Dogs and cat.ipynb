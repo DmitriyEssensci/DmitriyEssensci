{
 "cells": [
  {
   "cell_type": "code",
   "execution_count": 1,
   "id": "74b37c9d",
   "metadata": {},
   "outputs": [],
   "source": [
    "import pandas as pd\n",
    "import numpy as np\n",
    "%matplotlib inline\n",
    "import matplotlib.pyplot as plt\n",
    "import seaborn as sns\n",
    "from sklearn import tree\n",
    "from sklearn.metrics import accuracy_score\n",
    "from sklearn.model_selection import train_test_split"
   ]
  },
  {
   "cell_type": "code",
   "execution_count": 2,
   "id": "c1665f3a",
   "metadata": {},
   "outputs": [],
   "source": [
    "df_tr =  pd.read_csv('C:/Users/dstarasov/Desktop/stepik/task/DS/dogs_and_cats/dogs_n_cats.csv')"
   ]
  },
  {
   "cell_type": "code",
   "execution_count": 3,
   "id": "5117c93a",
   "metadata": {},
   "outputs": [
    {
     "data": {
      "text/plain": [
       "Index(['Длина', 'Высота', 'Шерстист', 'Гавкает', 'Лазает по деревьям', 'Вид'], dtype='object')"
      ]
     },
     "execution_count": 3,
     "metadata": {},
     "output_type": "execute_result"
    }
   ],
   "source": [
    "df_tr.columns"
   ]
  },
  {
   "cell_type": "code",
   "execution_count": 4,
   "id": "78573156",
   "metadata": {},
   "outputs": [],
   "source": [
    "X = df_tr.drop(['Вид'], axis=1)\n",
    "y = df_tr['Вид']"
   ]
  },
  {
   "cell_type": "code",
   "execution_count": 5,
   "id": "8bcbb319",
   "metadata": {},
   "outputs": [],
   "source": [
    "X_train, X_test, y_train, y_test = train_test_split(X, y, test_size=0.33, random_state=42)"
   ]
  },
  {
   "cell_type": "code",
   "execution_count": 6,
   "id": "fe72dd84",
   "metadata": {},
   "outputs": [],
   "source": [
    "clf = tree.DecisionTreeClassifier( criterion  = 'entropy')"
   ]
  },
  {
   "cell_type": "code",
   "execution_count": 7,
   "id": "932abc9d",
   "metadata": {},
   "outputs": [
    {
     "data": {
      "text/plain": [
       "DecisionTreeClassifier(criterion='entropy')"
      ]
     },
     "execution_count": 7,
     "metadata": {},
     "output_type": "execute_result"
    }
   ],
   "source": [
    "clf.fit(X_train, y_train)"
   ]
  },
  {
   "cell_type": "code",
   "execution_count": 8,
   "id": "f8d5f81c",
   "metadata": {
    "scrolled": true
   },
   "outputs": [],
   "source": [
    "df_ts = pd.read_json('C:/Users/dstarasov/Desktop/stepik/task/DS/dogs_and_cats/dataset_209691_155.json')"
   ]
  },
  {
   "cell_type": "code",
   "execution_count": 9,
   "id": "46dd0b49",
   "metadata": {},
   "outputs": [],
   "source": [
    "X_ts = df_ts"
   ]
  },
  {
   "cell_type": "code",
   "execution_count": 10,
   "id": "b7f7f6fa",
   "metadata": {},
   "outputs": [],
   "source": [
    "result = clf.predict(X_ts)"
   ]
  },
  {
   "cell_type": "code",
   "execution_count": 11,
   "id": "7396ea76",
   "metadata": {},
   "outputs": [
    {
     "data": {
      "text/plain": [
       "49"
      ]
     },
     "execution_count": 11,
     "metadata": {},
     "output_type": "execute_result"
    }
   ],
   "source": [
    "pd.Series(result)[result == 'собачка'].count()"
   ]
  },
  {
   "cell_type": "code",
   "execution_count": null,
   "id": "e1583d38",
   "metadata": {},
   "outputs": [],
   "source": []
  }
 ],
 "metadata": {
  "kernelspec": {
   "display_name": "Python 3",
   "language": "python",
   "name": "python3"
  },
  "language_info": {
   "codemirror_mode": {
    "name": "ipython",
    "version": 3
   },
   "file_extension": ".py",
   "mimetype": "text/x-python",
   "name": "python",
   "nbconvert_exporter": "python",
   "pygments_lexer": "ipython3",
   "version": "3.8.5"
  }
 },
 "nbformat": 4,
 "nbformat_minor": 5
}
